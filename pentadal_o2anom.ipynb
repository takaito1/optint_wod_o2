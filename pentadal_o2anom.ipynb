{
 "cells": [
  {
   "cell_type": "markdown",
   "id": "d16cae3d-c508-45c1-8588-1281fb3f8bff",
   "metadata": {},
   "source": [
    "# calculate pentadal running mean\n",
    "- Period 1. 1965-1986 OSD (1967-1986)\n",
    "- Period 2. 1987-2009 OSD+CTD (1987-2020)"
   ]
  },
  {
   "cell_type": "code",
   "execution_count": null,
   "id": "38ff121e-c3a3-4aee-8e99-59ca1861db42",
   "metadata": {},
   "outputs": [],
   "source": [
    "import numpy as np\n",
    "import matplotlib.pyplot as plt\n",
    "import netCDF4 as nc\n",
    "import xarray as xr\n",
    "import pandas as pd\n",
    "import os"
   ]
  },
  {
   "cell_type": "code",
   "execution_count": null,
   "id": "f32e58e3-209b-437b-920a-613bc6ab10db",
   "metadata": {},
   "outputs": [],
   "source": [
    "# full depth monthly climatology\n",
    "dclim=xr.open_dataset('o2_clim_OI1x1_osdctd_pass2.nc')\n",
    "Nlev=47\n",
    "z=dclim.depth[:Nlev].to_numpy()\n",
    "Nz=Nlev\n",
    "diro='intermed_files/'"
   ]
  },
  {
   "cell_type": "code",
   "execution_count": null,
   "id": "830f12d6-cc7a-4b3a-be14-e6e19fb284ee",
   "metadata": {},
   "outputs": [],
   "source": [
    "o2clim=dclim.o2.to_numpy()"
   ]
  },
  {
   "cell_type": "code",
   "execution_count": null,
   "id": "a0aface2-c41a-4907-b160-5640ac66aaf5",
   "metadata": {},
   "outputs": [],
   "source": [
    "year=range(1965,2022)\n",
    "fn0='o2_1x1bin_osd_'\n",
    "fn1='o2_1x1bin_ctd_'\n",
    "wn='o2_1x1bin_osdctd_'\n",
    "x=dclim.lon\n",
    "y=dclim.lat\n",
    "for yr in year:\n",
    "    print(str(yr))\n",
    "    ds=xr.open_dataset(diro+fn0+str(yr)+'.nc')\n",
    "    a1=ds.o2.to_numpy()-o2clim\n",
    "    a1=np.nanmean(a1,axis=0)\n",
    "    a1[np.isnan(a1)]=0\n",
    "    # aggregate into annual bin\n",
    "    n1=ds.sample_count.sum('mon').to_numpy()\n",
    "    # if after 1987, include CTD data\n",
    "    a=np.zeros((1,Nlev,180,360))\n",
    "    n=np.zeros((1,Nlev,180,360))\n",
    "    if (yr < 1987):\n",
    "        a[0,:,:,:]=a1\n",
    "        n[0,:,:,:]=n1\n",
    "    else:\n",
    "        ds=xr.open_dataset(diro+fn1+str(yr)+'.nc')\n",
    "        a2=ds.o2.to_numpy()-o2clim\n",
    "        a2=np.nanmean(a2,axis=0)\n",
    "        a2[np.isnan(a2)]=0\n",
    "        # aggregate into annual bin\n",
    "        n2=ds.sample_count.sum('mon').to_numpy()\n",
    "        # then combine with bottle data\n",
    "        a[0,:,:,:]=a1*n1+a2*n2\n",
    "        n[0,:,:,:]=n1+n2\n",
    "    a=a/n\n",
    "    # write out the output files\n",
    "    wn0=wn+str(yr)+'.nc'\n",
    "    da=xr.DataArray(data=a,name='o2anom',dims=['year','depth','lat','lon'],\\\n",
    "                   coords={'year':[yr],'depth':z,'lat':y,'lon':x})\n",
    "    dn=xr.DataArray(data=n,name='sample_count',dims=['year','depth','lat','lon'],\\\n",
    "                   coords={'year':[yr],'depth':z,'lat':y,'lon':x})\n",
    "    ds1=da.to_dataset()\n",
    "    ds1['sample_count']=dn\n",
    "    ds1.to_netcdf(diro+wn0)"
   ]
  },
  {
   "cell_type": "code",
   "execution_count": null,
   "id": "e1cd72e5-79fd-41d5-8ec0-73d5e6df089f",
   "metadata": {},
   "outputs": [],
   "source": [
    "# calculate 5 year running mean\n",
    "year=range(1967,2020)\n",
    "fn='o2_1x1bin_osdctd_'\n",
    "for yr in year:\n",
    "    print(yr)\n",
    "    wn=diro+'o2_5yrm_'+str(yr)+'.nc'\n",
    "    d=np.empty((5,Nlev,180,360))\n",
    "    d2=np.empty((5,Nlev,180,360))\n",
    "    d[0,:,:,:]=xr.open_dataset(diro+fn+str(yr-2)+'.nc').o2anom.to_numpy()\n",
    "    d[1,:,:,:]=xr.open_dataset(diro+fn+str(yr-1)+'.nc').o2anom.to_numpy()\n",
    "    d[2,:,:,:]=xr.open_dataset(diro+fn+str(yr)+'.nc').o2anom.to_numpy()\n",
    "    d[3,:,:,:]=xr.open_dataset(diro+fn+str(yr+1)+'.nc').o2anom.to_numpy()\n",
    "    d[4,:,:,:]=xr.open_dataset(diro+fn+str(yr+2)+'.nc').o2anom.to_numpy()\n",
    "    #\n",
    "    d2[0,:,:,:]=xr.open_dataset(diro+fn+str(yr-2)+'.nc').sample_count.to_numpy()\n",
    "    d2[1,:,:,:]=xr.open_dataset(diro+fn+str(yr-1)+'.nc').sample_count.to_numpy()\n",
    "    d2[2,:,:,:]=xr.open_dataset(diro+fn+str(yr)+'.nc').sample_count.to_numpy()\n",
    "    d2[3,:,:,:]=xr.open_dataset(diro+fn+str(yr+1)+'.nc').sample_count.to_numpy()\n",
    "    d2[4,:,:,:]=xr.open_dataset(diro+fn+str(yr+2)+'.nc').sample_count.to_numpy()\n",
    "    #\n",
    "    d0=np.nanmean(d,axis=0)\n",
    "    d1=np.where(d0==0,np.nan,d0)\n",
    "    d20=np.nansum(d2,axis=0)\n",
    "    ds=xr.open_dataset(diro+fn+str(yr)+'.nc')\n",
    "    #\n",
    "    da=xr.DataArray(data=d1,name='o2anom',dims=['depth','lat','lon'],\\\n",
    "                    coords={'depth':ds.depth,'lat':ds.lat,'lon':ds.lon})\n",
    "    da2=xr.DataArray(data=d20,name='sample_count',dims=['depth','lat','lon'],\\\n",
    "                    coords={'depth':ds.depth,'lat':ds.lat,'lon':ds.lon})\n",
    "    ds1=da.to_dataset()\n",
    "    ds1['sample_count']=da2\n",
    "    os.system('rm '+wn)\n",
    "    ds1.to_netcdf(wn)"
   ]
  },
  {
   "cell_type": "code",
   "execution_count": null,
   "id": "e306c4e8-4b9b-4fe8-90d7-11d07406ed46",
   "metadata": {},
   "outputs": [],
   "source": [
    "ds1=xr.open_mfdataset(diro+'o2_5yrm_1987.nc')\n",
    "plt.pcolormesh(ds1.o2anom[0,:,:],vmin=-20,vmax=20,cmap='RdBu_r')\n",
    "plt.colorbar()"
   ]
  },
  {
   "cell_type": "code",
   "execution_count": null,
   "id": "caef7b19-9d55-40e8-ae11-86a864dd84f5",
   "metadata": {},
   "outputs": [],
   "source": [
    "os.system('ls intermed_files/o2_5yrm*.nc > fn.txt')"
   ]
  },
  {
   "cell_type": "code",
   "execution_count": null,
   "id": "c823d0b7-a464-424a-846f-38b7777be209",
   "metadata": {},
   "outputs": [],
   "source": []
  }
 ],
 "metadata": {
  "kernelspec": {
   "display_name": "Calc3",
   "language": "python",
   "name": "calc3"
  },
  "language_info": {
   "codemirror_mode": {
    "name": "ipython",
    "version": 3
   },
   "file_extension": ".py",
   "mimetype": "text/x-python",
   "name": "python",
   "nbconvert_exporter": "python",
   "pygments_lexer": "ipython3",
   "version": "3.8.12"
  }
 },
 "nbformat": 4,
 "nbformat_minor": 5
}
