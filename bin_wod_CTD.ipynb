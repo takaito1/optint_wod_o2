{
 "cells": [
  {
   "cell_type": "markdown",
   "id": "32defb2f-512b-4816-84e7-7b1451571ee6",
   "metadata": {},
   "source": [
    "# WOD CTD Oxygen: global 1x1 bin\n",
    "- annual netCDF output\n",
    "- WOD CTD data\n",
    "- 1987 to 2021"
   ]
  },
  {
   "cell_type": "code",
   "execution_count": 1,
   "id": "9e32abc8-e3b0-4ef7-9c54-6d733a3c7214",
   "metadata": {},
   "outputs": [],
   "source": [
    "import numpy as np\n",
    "import matplotlib.pyplot as plt\n",
    "import netCDF4 as nc\n",
    "import xarray as xr\n",
    "import pandas as pd\n",
    "import os"
   ]
  },
  {
   "cell_type": "code",
   "execution_count": 2,
   "id": "e4e0fc3e-ddfd-44cd-8228-27be88e4732a",
   "metadata": {},
   "outputs": [],
   "source": [
    "# define standard depth\n",
    "zstd=np.array([0.00e+00, 5.00e+00, 1.00e+01, 1.50e+01, 2.00e+01, 2.50e+01,\n",
    "       3.00e+01, 3.50e+01, 4.00e+01, 4.50e+01, 5.00e+01, 5.50e+01,\n",
    "       6.00e+01, 6.50e+01, 7.00e+01, 7.50e+01, 8.00e+01, 8.50e+01,\n",
    "       9.00e+01, 9.50e+01, 1.00e+02, 1.25e+02, 1.50e+02, 1.75e+02,\n",
    "       2.00e+02, 2.25e+02, 2.50e+02, 2.75e+02, 3.00e+02, 3.25e+02,\n",
    "       3.50e+02, 3.75e+02, 4.00e+02, 4.25e+02, 4.50e+02, 4.75e+02,\n",
    "       5.00e+02, 5.50e+02, 6.00e+02, 6.50e+02, 7.00e+02, 7.50e+02,\n",
    "       8.00e+02, 8.50e+02, 9.00e+02, 9.50e+02, 1.00e+03, 1.05e+03,\n",
    "       1.10e+03, 1.15e+03, 1.20e+03, 1.25e+03, 1.30e+03, 1.35e+03,\n",
    "       1.40e+03, 1.45e+03, 1.50e+03, 1.55e+03, 1.60e+03, 1.65e+03,\n",
    "       1.70e+03, 1.75e+03, 1.80e+03, 1.85e+03, 1.90e+03, 1.95e+03,\n",
    "       2.00e+03, 2.10e+03, 2.20e+03, 2.30e+03, 2.40e+03, 2.50e+03,\n",
    "       2.60e+03, 2.70e+03, 2.80e+03, 2.90e+03, 3.00e+03, 3.10e+03,\n",
    "       3.20e+03, 3.30e+03, 3.40e+03, 3.50e+03, 3.60e+03, 3.70e+03,\n",
    "       3.80e+03, 3.90e+03, 4.00e+03, 4.10e+03, 4.20e+03, 4.30e+03,\n",
    "       4.40e+03, 4.50e+03, 4.60e+03, 4.70e+03, 4.80e+03, 4.90e+03,\n",
    "       5.00e+03, 5.10e+03, 5.20e+03, 5.30e+03, 5.40e+03, 5.50e+03],\n",
    "      dtype='float32')"
   ]
  },
  {
   "cell_type": "code",
   "execution_count": 3,
   "id": "8f91aaf5-dc03-495a-9f84-4906085c84d6",
   "metadata": {},
   "outputs": [
    {
     "data": {
      "text/plain": [
       "0"
      ]
     },
     "execution_count": 3,
     "metadata": {},
     "output_type": "execute_result"
    }
   ],
   "source": [
    "# data source identification\n",
    "#\n",
    "Nlev=47 # focus on the upper 1,000m\n",
    "#\n",
    "dosd='OSD/ocldb1652320646.21862_OSD'\n",
    "Nosd=12 # number of source files\n",
    "#\n",
    "dctd='CTD/ocldb1652320821.23566_CTD'\n",
    "Nctd=3\n",
    "#\n",
    "dirname='intermed_files'\n",
    "os.system('mkdir -p '+dirname)"
   ]
  },
  {
   "cell_type": "code",
   "execution_count": 4,
   "id": "96e712c4-8f5d-45a8-8b1d-9e7193a58aef",
   "metadata": {},
   "outputs": [],
   "source": [
    "def monthly_1deg_bin(Nlev,year):\n",
    "    # prepare array\n",
    "    dd_osd=np.zeros((12,Nlev,180,360),dtype='int')\n",
    "    sumo2_osd=np.zeros((12,Nlev,180,360))\n",
    "    dd_prof=np.zeros((12,180,360),dtype='int')\n",
    "    # set 1deg lon-lat grid\n",
    "    Xw=np.arange(-180,180,1)\n",
    "    Ys=np.arange(-90,90,1)\n",
    "    # loop over each WOD ragged netCDF file\n",
    "    for f in range(Nctd):\n",
    "        if f==0:\n",
    "            fn=dctd+'.nc'\n",
    "        else:\n",
    "            fn=dctd+str(f+1)+'.nc'\n",
    "        #print('processing '+fn)\n",
    "        dsosd=xr.open_dataset(fn)\n",
    "        # now loop over each cast in the netCDF file\n",
    "        timeloc = pd.DatetimeIndex(dsosd['time'])\n",
    "        Nprof0=np.size(timeloc)\n",
    "        yearloc = timeloc.year\n",
    "        uyear=np.unique(yearloc)\n",
    "        if uyear[0]==1770:\n",
    "            minyr=uyear[1]\n",
    "        else:\n",
    "            minyr=uyear[0]\n",
    "        maxyr=uyear[-1]\n",
    "        if (maxyr < year) | (minyr > year):\n",
    "            note='skipping non-overlapping years...'\n",
    "        else:\n",
    "            print('num of prof = '+str(Nprof0)+' max year = '+str(maxyr)+' min year = '+str(minyr))\n",
    "            print('reading data...')\n",
    "            lonloc=dsosd['lon'].to_numpy()\n",
    "            latloc=dsosd['lat'].to_numpy()\n",
    "            zrsize=dsosd['z_row_size'].to_numpy()\n",
    "            orsize=dsosd['Oxygen_row_size'].to_numpy()\n",
    "            # get depth data\n",
    "            zp0=dsosd['z'].to_numpy()\n",
    "            # get tracer data\n",
    "            o2p0=dsosd['Oxygen'].to_numpy()\n",
    "            oflg0=dsosd['Oxygen_WODflag'].to_numpy()\n",
    "            # get month\n",
    "            monloc = timeloc.month\n",
    "            zlevidx=0\n",
    "            o2levidx=0\n",
    "            lonloc[lonloc==-180.0]=-179.99\n",
    "            for nn in range(Nprof0):\n",
    "                # determine x,y,month grid\n",
    "                if (np.abs(latloc[nn])>90)|(np.abs(lonloc[nn])>180):\n",
    "                    latloc[nn]=89.9\n",
    "                    lonloc[nn]=179.9\n",
    "                    locflag=1\n",
    "                else:\n",
    "                    locflag=0\n",
    "                #\n",
    "                xind=np.where((Xw>=lonloc[nn]-1)&(Xw<=lonloc[nn]))[0][0]\n",
    "                yind=np.where((Ys>=latloc[nn]-1)&(Ys<latloc[nn]))[0][0]\n",
    "                mind=int(monloc[nn])-1\n",
    "                yrnow=yearloc[nn]\n",
    "                # determine the number of samples in this particular profile\n",
    "                o2inc=orsize[nn]\n",
    "                # obtain depth of the samples\n",
    "                zp1=zp0[zlevidx:int(zlevidx+zrsize[nn])]\n",
    "                # check if O2 data exists\n",
    "                if np.isnan(o2inc):\n",
    "                    tmp_note='no o2 data'\n",
    "                else:\n",
    "                    # get the O2 profile and its quality flag\n",
    "                    Nz1=int(o2inc)\n",
    "                    o2p1=o2p0[o2levidx:int(o2levidx+o2inc)]\n",
    "                    oflg1=oflg0[o2levidx:int(o2levidx+o2inc)]\n",
    "                    o2levidx=int(o2levidx+o2inc)\n",
    "                    # count the profile\n",
    "                    dd_prof[mind,yind,xind]=dd_prof[mind,yind,xind]+1\n",
    "                    if (Nz1>Nlev):\n",
    "                        Nz1=Nlev\n",
    "                    for k in range(Nz1):\n",
    "                        if (locflag==0)&(oflg1[k]==0)&(yrnow==year):\n",
    "                            sumo2_osd[mind,k,yind,xind]=sumo2_osd[mind,k,yind,xind]+o2p1[k]\n",
    "                            dd_osd[mind,k,yind,xind]=dd_osd[mind,k,yind,xind]+1\n",
    "                    # --- done within profile loop\n",
    "                # -------\n",
    "                # now update the index for Z, T and S and go to the next profile\n",
    "                zlevidx=int(zlevidx+zrsize[nn])\n",
    "            # check if the number of sample matches up for the entire WOD file\n",
    "            Nobs0=np.size(zp0)\n",
    "            if zlevidx!=Nobs0:\n",
    "                print('error! number of sample did not match')\n",
    "            else:\n",
    "                print('passed the sample count check')\n",
    "    return sumo2_osd,dd_osd,dd_prof"
   ]
  },
  {
   "cell_type": "code",
   "execution_count": 5,
   "id": "b4e0126a-7565-4c48-8a46-0edb365aea7e",
   "metadata": {},
   "outputs": [],
   "source": [
    "def save_1deg_bin(dsum,dd,xc,yc,zc,year,var,dprof):\n",
    "    fn=dirname+'/'+var+'_1x1bin_ctd_'+str(year)+'.nc'\n",
    "    dave=dsum/dd\n",
    "    mon=np.arange(1,13,1)\n",
    "    ####-------------------\n",
    "    da=xr.DataArray(data=dave,name=var,dims=['mon','depth','lat','lon'],\\\n",
    "                coords={'mon':mon,'depth':zc,'lat':yc,'lon':xc})\n",
    "    ds=da.to_dataset()\n",
    "    dd=xr.DataArray(data=dd,name='sample_count',dims=['mon','depth','lat','lon'],\\\n",
    "                    coords={'mon':mon,'depth':zc,'lat':yc,'lon':xc})\n",
    "    ds['sample_count']=dd\n",
    "    ddp=xr.DataArray(data=dprof,name='profile_count',dims=['mon','lat','lon'],\\\n",
    "                    coords={'mon':mon,'lat':yc,'lon':xc})\n",
    "    ds['profile_count']=ddp\n",
    "    # write out the output file\n",
    "    ds.to_netcdf(fn)\n",
    "    return 1"
   ]
  },
  {
   "cell_type": "code",
   "execution_count": 6,
   "id": "b315c73d-9574-4c9c-9dec-39941abfb4e9",
   "metadata": {},
   "outputs": [
    {
     "name": "stdout",
     "output_type": "stream",
     "text": [
      "=== working on 1965 ===\n"
     ]
    },
    {
     "name": "stderr",
     "output_type": "stream",
     "text": [
      "/var/folders/s6/962q46653xd_fxwlc18l0t8w00bhjp/T/ipykernel_87737/368539919.py:3: RuntimeWarning: invalid value encountered in true_divide\n",
      "  dave=dsum/dd\n"
     ]
    },
    {
     "name": "stdout",
     "output_type": "stream",
     "text": [
      "=== working on 1966 ===\n"
     ]
    },
    {
     "name": "stderr",
     "output_type": "stream",
     "text": [
      "/var/folders/s6/962q46653xd_fxwlc18l0t8w00bhjp/T/ipykernel_87737/368539919.py:3: RuntimeWarning: invalid value encountered in true_divide\n",
      "  dave=dsum/dd\n"
     ]
    },
    {
     "name": "stdout",
     "output_type": "stream",
     "text": [
      "=== working on 1967 ===\n"
     ]
    },
    {
     "name": "stderr",
     "output_type": "stream",
     "text": [
      "/var/folders/s6/962q46653xd_fxwlc18l0t8w00bhjp/T/ipykernel_87737/368539919.py:3: RuntimeWarning: invalid value encountered in true_divide\n",
      "  dave=dsum/dd\n"
     ]
    },
    {
     "name": "stdout",
     "output_type": "stream",
     "text": [
      "=== working on 1968 ===\n"
     ]
    },
    {
     "name": "stderr",
     "output_type": "stream",
     "text": [
      "/var/folders/s6/962q46653xd_fxwlc18l0t8w00bhjp/T/ipykernel_87737/368539919.py:3: RuntimeWarning: invalid value encountered in true_divide\n",
      "  dave=dsum/dd\n"
     ]
    },
    {
     "name": "stdout",
     "output_type": "stream",
     "text": [
      "=== working on 1969 ===\n"
     ]
    },
    {
     "name": "stderr",
     "output_type": "stream",
     "text": [
      "/var/folders/s6/962q46653xd_fxwlc18l0t8w00bhjp/T/ipykernel_87737/368539919.py:3: RuntimeWarning: invalid value encountered in true_divide\n",
      "  dave=dsum/dd\n"
     ]
    },
    {
     "name": "stdout",
     "output_type": "stream",
     "text": [
      "=== working on 1970 ===\n"
     ]
    },
    {
     "name": "stderr",
     "output_type": "stream",
     "text": [
      "/var/folders/s6/962q46653xd_fxwlc18l0t8w00bhjp/T/ipykernel_87737/368539919.py:3: RuntimeWarning: invalid value encountered in true_divide\n",
      "  dave=dsum/dd\n"
     ]
    },
    {
     "name": "stdout",
     "output_type": "stream",
     "text": [
      "=== working on 1971 ===\n",
      "num of prof = 72860 max year = 2003 min year = 1971\n",
      "reading data...\n",
      "passed the sample count check\n"
     ]
    },
    {
     "name": "stderr",
     "output_type": "stream",
     "text": [
      "/var/folders/s6/962q46653xd_fxwlc18l0t8w00bhjp/T/ipykernel_87737/368539919.py:3: RuntimeWarning: invalid value encountered in true_divide\n",
      "  dave=dsum/dd\n"
     ]
    },
    {
     "name": "stdout",
     "output_type": "stream",
     "text": [
      "=== working on 1972 ===\n",
      "num of prof = 72860 max year = 2003 min year = 1971\n",
      "reading data...\n",
      "passed the sample count check\n"
     ]
    },
    {
     "name": "stderr",
     "output_type": "stream",
     "text": [
      "/var/folders/s6/962q46653xd_fxwlc18l0t8w00bhjp/T/ipykernel_87737/368539919.py:3: RuntimeWarning: invalid value encountered in true_divide\n",
      "  dave=dsum/dd\n"
     ]
    },
    {
     "name": "stdout",
     "output_type": "stream",
     "text": [
      "=== working on 1973 ===\n",
      "num of prof = 72860 max year = 2003 min year = 1971\n",
      "reading data...\n",
      "passed the sample count check\n"
     ]
    },
    {
     "name": "stderr",
     "output_type": "stream",
     "text": [
      "/var/folders/s6/962q46653xd_fxwlc18l0t8w00bhjp/T/ipykernel_87737/368539919.py:3: RuntimeWarning: invalid value encountered in true_divide\n",
      "  dave=dsum/dd\n"
     ]
    },
    {
     "name": "stdout",
     "output_type": "stream",
     "text": [
      "=== working on 1974 ===\n",
      "num of prof = 72860 max year = 2003 min year = 1971\n",
      "reading data...\n",
      "passed the sample count check\n"
     ]
    },
    {
     "name": "stderr",
     "output_type": "stream",
     "text": [
      "/var/folders/s6/962q46653xd_fxwlc18l0t8w00bhjp/T/ipykernel_87737/368539919.py:3: RuntimeWarning: invalid value encountered in true_divide\n",
      "  dave=dsum/dd\n"
     ]
    },
    {
     "name": "stdout",
     "output_type": "stream",
     "text": [
      "=== working on 1975 ===\n",
      "num of prof = 72860 max year = 2003 min year = 1971\n",
      "reading data...\n",
      "passed the sample count check\n"
     ]
    },
    {
     "name": "stderr",
     "output_type": "stream",
     "text": [
      "/var/folders/s6/962q46653xd_fxwlc18l0t8w00bhjp/T/ipykernel_87737/368539919.py:3: RuntimeWarning: invalid value encountered in true_divide\n",
      "  dave=dsum/dd\n"
     ]
    },
    {
     "name": "stdout",
     "output_type": "stream",
     "text": [
      "=== working on 1976 ===\n",
      "num of prof = 72860 max year = 2003 min year = 1971\n",
      "reading data...\n",
      "passed the sample count check\n"
     ]
    },
    {
     "name": "stderr",
     "output_type": "stream",
     "text": [
      "/var/folders/s6/962q46653xd_fxwlc18l0t8w00bhjp/T/ipykernel_87737/368539919.py:3: RuntimeWarning: invalid value encountered in true_divide\n",
      "  dave=dsum/dd\n"
     ]
    },
    {
     "name": "stdout",
     "output_type": "stream",
     "text": [
      "=== working on 1977 ===\n",
      "num of prof = 72860 max year = 2003 min year = 1971\n",
      "reading data...\n",
      "passed the sample count check\n"
     ]
    },
    {
     "name": "stderr",
     "output_type": "stream",
     "text": [
      "/var/folders/s6/962q46653xd_fxwlc18l0t8w00bhjp/T/ipykernel_87737/368539919.py:3: RuntimeWarning: invalid value encountered in true_divide\n",
      "  dave=dsum/dd\n"
     ]
    },
    {
     "name": "stdout",
     "output_type": "stream",
     "text": [
      "=== working on 1978 ===\n",
      "num of prof = 72860 max year = 2003 min year = 1971\n",
      "reading data...\n",
      "passed the sample count check\n"
     ]
    },
    {
     "name": "stderr",
     "output_type": "stream",
     "text": [
      "/var/folders/s6/962q46653xd_fxwlc18l0t8w00bhjp/T/ipykernel_87737/368539919.py:3: RuntimeWarning: invalid value encountered in true_divide\n",
      "  dave=dsum/dd\n"
     ]
    },
    {
     "name": "stdout",
     "output_type": "stream",
     "text": [
      "=== working on 1979 ===\n",
      "num of prof = 72860 max year = 2003 min year = 1971\n",
      "reading data...\n",
      "passed the sample count check\n"
     ]
    },
    {
     "name": "stderr",
     "output_type": "stream",
     "text": [
      "/var/folders/s6/962q46653xd_fxwlc18l0t8w00bhjp/T/ipykernel_87737/368539919.py:3: RuntimeWarning: invalid value encountered in true_divide\n",
      "  dave=dsum/dd\n"
     ]
    },
    {
     "name": "stdout",
     "output_type": "stream",
     "text": [
      "=== working on 1980 ===\n",
      "num of prof = 72860 max year = 2003 min year = 1971\n",
      "reading data...\n",
      "passed the sample count check\n"
     ]
    },
    {
     "name": "stderr",
     "output_type": "stream",
     "text": [
      "/var/folders/s6/962q46653xd_fxwlc18l0t8w00bhjp/T/ipykernel_87737/368539919.py:3: RuntimeWarning: invalid value encountered in true_divide\n",
      "  dave=dsum/dd\n"
     ]
    },
    {
     "name": "stdout",
     "output_type": "stream",
     "text": [
      "=== working on 1981 ===\n",
      "num of prof = 72860 max year = 2003 min year = 1971\n",
      "reading data...\n",
      "passed the sample count check\n"
     ]
    },
    {
     "name": "stderr",
     "output_type": "stream",
     "text": [
      "/var/folders/s6/962q46653xd_fxwlc18l0t8w00bhjp/T/ipykernel_87737/368539919.py:3: RuntimeWarning: invalid value encountered in true_divide\n",
      "  dave=dsum/dd\n"
     ]
    },
    {
     "name": "stdout",
     "output_type": "stream",
     "text": [
      "=== working on 1982 ===\n",
      "num of prof = 72860 max year = 2003 min year = 1971\n",
      "reading data...\n",
      "passed the sample count check\n"
     ]
    },
    {
     "name": "stderr",
     "output_type": "stream",
     "text": [
      "/var/folders/s6/962q46653xd_fxwlc18l0t8w00bhjp/T/ipykernel_87737/368539919.py:3: RuntimeWarning: invalid value encountered in true_divide\n",
      "  dave=dsum/dd\n"
     ]
    },
    {
     "name": "stdout",
     "output_type": "stream",
     "text": [
      "=== working on 1983 ===\n",
      "num of prof = 72860 max year = 2003 min year = 1971\n",
      "reading data...\n",
      "passed the sample count check\n"
     ]
    },
    {
     "name": "stderr",
     "output_type": "stream",
     "text": [
      "/var/folders/s6/962q46653xd_fxwlc18l0t8w00bhjp/T/ipykernel_87737/368539919.py:3: RuntimeWarning: invalid value encountered in true_divide\n",
      "  dave=dsum/dd\n"
     ]
    },
    {
     "name": "stdout",
     "output_type": "stream",
     "text": [
      "=== working on 1984 ===\n",
      "num of prof = 72860 max year = 2003 min year = 1971\n",
      "reading data...\n",
      "passed the sample count check\n"
     ]
    },
    {
     "name": "stderr",
     "output_type": "stream",
     "text": [
      "/var/folders/s6/962q46653xd_fxwlc18l0t8w00bhjp/T/ipykernel_87737/368539919.py:3: RuntimeWarning: invalid value encountered in true_divide\n",
      "  dave=dsum/dd\n"
     ]
    },
    {
     "name": "stdout",
     "output_type": "stream",
     "text": [
      "=== working on 1985 ===\n",
      "num of prof = 72860 max year = 2003 min year = 1971\n",
      "reading data...\n",
      "passed the sample count check\n"
     ]
    },
    {
     "name": "stderr",
     "output_type": "stream",
     "text": [
      "/var/folders/s6/962q46653xd_fxwlc18l0t8w00bhjp/T/ipykernel_87737/368539919.py:3: RuntimeWarning: invalid value encountered in true_divide\n",
      "  dave=dsum/dd\n"
     ]
    },
    {
     "name": "stdout",
     "output_type": "stream",
     "text": [
      "=== working on 1986 ===\n",
      "num of prof = 72860 max year = 2003 min year = 1971\n",
      "reading data...\n",
      "passed the sample count check\n"
     ]
    },
    {
     "name": "stderr",
     "output_type": "stream",
     "text": [
      "/var/folders/s6/962q46653xd_fxwlc18l0t8w00bhjp/T/ipykernel_87737/368539919.py:3: RuntimeWarning: invalid value encountered in true_divide\n",
      "  dave=dsum/dd\n"
     ]
    },
    {
     "name": "stdout",
     "output_type": "stream",
     "text": [
      "=== working on 1987 ===\n",
      "num of prof = 72860 max year = 2003 min year = 1971\n",
      "reading data...\n",
      "passed the sample count check\n"
     ]
    },
    {
     "name": "stderr",
     "output_type": "stream",
     "text": [
      "/var/folders/s6/962q46653xd_fxwlc18l0t8w00bhjp/T/ipykernel_87737/368539919.py:3: RuntimeWarning: invalid value encountered in true_divide\n",
      "  dave=dsum/dd\n"
     ]
    },
    {
     "name": "stdout",
     "output_type": "stream",
     "text": [
      "=== working on 1988 ===\n",
      "num of prof = 72860 max year = 2003 min year = 1971\n",
      "reading data...\n",
      "passed the sample count check\n"
     ]
    },
    {
     "name": "stderr",
     "output_type": "stream",
     "text": [
      "/var/folders/s6/962q46653xd_fxwlc18l0t8w00bhjp/T/ipykernel_87737/368539919.py:3: RuntimeWarning: invalid value encountered in true_divide\n",
      "  dave=dsum/dd\n"
     ]
    },
    {
     "name": "stdout",
     "output_type": "stream",
     "text": [
      "=== working on 1989 ===\n",
      "num of prof = 72860 max year = 2003 min year = 1971\n",
      "reading data...\n",
      "passed the sample count check\n"
     ]
    },
    {
     "name": "stderr",
     "output_type": "stream",
     "text": [
      "/var/folders/s6/962q46653xd_fxwlc18l0t8w00bhjp/T/ipykernel_87737/368539919.py:3: RuntimeWarning: invalid value encountered in true_divide\n",
      "  dave=dsum/dd\n"
     ]
    },
    {
     "name": "stdout",
     "output_type": "stream",
     "text": [
      "=== working on 1990 ===\n",
      "num of prof = 72860 max year = 2003 min year = 1971\n",
      "reading data...\n",
      "passed the sample count check\n"
     ]
    },
    {
     "name": "stderr",
     "output_type": "stream",
     "text": [
      "/var/folders/s6/962q46653xd_fxwlc18l0t8w00bhjp/T/ipykernel_87737/368539919.py:3: RuntimeWarning: invalid value encountered in true_divide\n",
      "  dave=dsum/dd\n"
     ]
    },
    {
     "name": "stdout",
     "output_type": "stream",
     "text": [
      "=== working on 1991 ===\n",
      "num of prof = 72860 max year = 2003 min year = 1971\n",
      "reading data...\n",
      "passed the sample count check\n"
     ]
    },
    {
     "name": "stderr",
     "output_type": "stream",
     "text": [
      "/var/folders/s6/962q46653xd_fxwlc18l0t8w00bhjp/T/ipykernel_87737/368539919.py:3: RuntimeWarning: invalid value encountered in true_divide\n",
      "  dave=dsum/dd\n"
     ]
    },
    {
     "name": "stdout",
     "output_type": "stream",
     "text": [
      "=== working on 1992 ===\n",
      "num of prof = 72860 max year = 2003 min year = 1971\n",
      "reading data...\n",
      "passed the sample count check\n"
     ]
    },
    {
     "name": "stderr",
     "output_type": "stream",
     "text": [
      "/var/folders/s6/962q46653xd_fxwlc18l0t8w00bhjp/T/ipykernel_87737/368539919.py:3: RuntimeWarning: invalid value encountered in true_divide\n",
      "  dave=dsum/dd\n"
     ]
    },
    {
     "name": "stdout",
     "output_type": "stream",
     "text": [
      "=== working on 1993 ===\n",
      "num of prof = 72860 max year = 2003 min year = 1971\n",
      "reading data...\n",
      "passed the sample count check\n"
     ]
    },
    {
     "name": "stderr",
     "output_type": "stream",
     "text": [
      "/var/folders/s6/962q46653xd_fxwlc18l0t8w00bhjp/T/ipykernel_87737/368539919.py:3: RuntimeWarning: invalid value encountered in true_divide\n",
      "  dave=dsum/dd\n"
     ]
    },
    {
     "name": "stdout",
     "output_type": "stream",
     "text": [
      "=== working on 1994 ===\n",
      "num of prof = 72860 max year = 2003 min year = 1971\n",
      "reading data...\n",
      "passed the sample count check\n"
     ]
    },
    {
     "name": "stderr",
     "output_type": "stream",
     "text": [
      "/var/folders/s6/962q46653xd_fxwlc18l0t8w00bhjp/T/ipykernel_87737/368539919.py:3: RuntimeWarning: invalid value encountered in true_divide\n",
      "  dave=dsum/dd\n"
     ]
    },
    {
     "name": "stdout",
     "output_type": "stream",
     "text": [
      "=== working on 1995 ===\n",
      "num of prof = 72860 max year = 2003 min year = 1971\n",
      "reading data...\n",
      "passed the sample count check\n"
     ]
    },
    {
     "name": "stderr",
     "output_type": "stream",
     "text": [
      "/var/folders/s6/962q46653xd_fxwlc18l0t8w00bhjp/T/ipykernel_87737/368539919.py:3: RuntimeWarning: invalid value encountered in true_divide\n",
      "  dave=dsum/dd\n"
     ]
    },
    {
     "name": "stdout",
     "output_type": "stream",
     "text": [
      "=== working on 1996 ===\n",
      "num of prof = 72860 max year = 2003 min year = 1971\n",
      "reading data...\n",
      "passed the sample count check\n"
     ]
    },
    {
     "name": "stderr",
     "output_type": "stream",
     "text": [
      "/var/folders/s6/962q46653xd_fxwlc18l0t8w00bhjp/T/ipykernel_87737/368539919.py:3: RuntimeWarning: invalid value encountered in true_divide\n",
      "  dave=dsum/dd\n"
     ]
    },
    {
     "name": "stdout",
     "output_type": "stream",
     "text": [
      "=== working on 1997 ===\n",
      "num of prof = 72860 max year = 2003 min year = 1971\n",
      "reading data...\n",
      "passed the sample count check\n"
     ]
    },
    {
     "name": "stderr",
     "output_type": "stream",
     "text": [
      "/var/folders/s6/962q46653xd_fxwlc18l0t8w00bhjp/T/ipykernel_87737/368539919.py:3: RuntimeWarning: invalid value encountered in true_divide\n",
      "  dave=dsum/dd\n"
     ]
    },
    {
     "name": "stdout",
     "output_type": "stream",
     "text": [
      "=== working on 1998 ===\n",
      "num of prof = 72860 max year = 2003 min year = 1971\n",
      "reading data...\n",
      "passed the sample count check\n"
     ]
    },
    {
     "name": "stderr",
     "output_type": "stream",
     "text": [
      "/var/folders/s6/962q46653xd_fxwlc18l0t8w00bhjp/T/ipykernel_87737/368539919.py:3: RuntimeWarning: invalid value encountered in true_divide\n",
      "  dave=dsum/dd\n"
     ]
    },
    {
     "name": "stdout",
     "output_type": "stream",
     "text": [
      "=== working on 1999 ===\n",
      "num of prof = 72860 max year = 2003 min year = 1971\n",
      "reading data...\n",
      "passed the sample count check\n"
     ]
    },
    {
     "name": "stderr",
     "output_type": "stream",
     "text": [
      "/var/folders/s6/962q46653xd_fxwlc18l0t8w00bhjp/T/ipykernel_87737/368539919.py:3: RuntimeWarning: invalid value encountered in true_divide\n",
      "  dave=dsum/dd\n"
     ]
    },
    {
     "name": "stdout",
     "output_type": "stream",
     "text": [
      "=== working on 2000 ===\n",
      "num of prof = 72860 max year = 2003 min year = 1971\n",
      "reading data...\n",
      "passed the sample count check\n"
     ]
    },
    {
     "name": "stderr",
     "output_type": "stream",
     "text": [
      "/var/folders/s6/962q46653xd_fxwlc18l0t8w00bhjp/T/ipykernel_87737/368539919.py:3: RuntimeWarning: invalid value encountered in true_divide\n",
      "  dave=dsum/dd\n"
     ]
    },
    {
     "name": "stdout",
     "output_type": "stream",
     "text": [
      "=== working on 2001 ===\n",
      "num of prof = 72860 max year = 2003 min year = 1971\n",
      "reading data...\n",
      "passed the sample count check\n"
     ]
    },
    {
     "name": "stderr",
     "output_type": "stream",
     "text": [
      "/var/folders/s6/962q46653xd_fxwlc18l0t8w00bhjp/T/ipykernel_87737/368539919.py:3: RuntimeWarning: invalid value encountered in true_divide\n",
      "  dave=dsum/dd\n"
     ]
    },
    {
     "name": "stdout",
     "output_type": "stream",
     "text": [
      "=== working on 2002 ===\n",
      "num of prof = 72860 max year = 2003 min year = 1971\n",
      "reading data...\n",
      "passed the sample count check\n"
     ]
    },
    {
     "name": "stderr",
     "output_type": "stream",
     "text": [
      "/var/folders/s6/962q46653xd_fxwlc18l0t8w00bhjp/T/ipykernel_87737/368539919.py:3: RuntimeWarning: invalid value encountered in true_divide\n",
      "  dave=dsum/dd\n"
     ]
    },
    {
     "name": "stdout",
     "output_type": "stream",
     "text": [
      "=== working on 2003 ===\n",
      "num of prof = 72860 max year = 2003 min year = 1971\n",
      "reading data...\n",
      "passed the sample count check\n",
      "num of prof = 78034 max year = 2016 min year = 2003\n",
      "reading data...\n",
      "passed the sample count check\n"
     ]
    },
    {
     "name": "stderr",
     "output_type": "stream",
     "text": [
      "/var/folders/s6/962q46653xd_fxwlc18l0t8w00bhjp/T/ipykernel_87737/368539919.py:3: RuntimeWarning: invalid value encountered in true_divide\n",
      "  dave=dsum/dd\n"
     ]
    },
    {
     "name": "stdout",
     "output_type": "stream",
     "text": [
      "=== working on 2004 ===\n",
      "num of prof = 78034 max year = 2016 min year = 2003\n",
      "reading data...\n",
      "passed the sample count check\n"
     ]
    },
    {
     "name": "stderr",
     "output_type": "stream",
     "text": [
      "/var/folders/s6/962q46653xd_fxwlc18l0t8w00bhjp/T/ipykernel_87737/368539919.py:3: RuntimeWarning: invalid value encountered in true_divide\n",
      "  dave=dsum/dd\n"
     ]
    },
    {
     "name": "stdout",
     "output_type": "stream",
     "text": [
      "=== working on 2005 ===\n",
      "num of prof = 78034 max year = 2016 min year = 2003\n",
      "reading data...\n",
      "passed the sample count check\n"
     ]
    },
    {
     "name": "stderr",
     "output_type": "stream",
     "text": [
      "/var/folders/s6/962q46653xd_fxwlc18l0t8w00bhjp/T/ipykernel_87737/368539919.py:3: RuntimeWarning: invalid value encountered in true_divide\n",
      "  dave=dsum/dd\n"
     ]
    },
    {
     "name": "stdout",
     "output_type": "stream",
     "text": [
      "=== working on 2006 ===\n",
      "num of prof = 78034 max year = 2016 min year = 2003\n",
      "reading data...\n",
      "passed the sample count check\n"
     ]
    },
    {
     "name": "stderr",
     "output_type": "stream",
     "text": [
      "/var/folders/s6/962q46653xd_fxwlc18l0t8w00bhjp/T/ipykernel_87737/368539919.py:3: RuntimeWarning: invalid value encountered in true_divide\n",
      "  dave=dsum/dd\n"
     ]
    },
    {
     "name": "stdout",
     "output_type": "stream",
     "text": [
      "=== working on 2007 ===\n",
      "num of prof = 78034 max year = 2016 min year = 2003\n",
      "reading data...\n",
      "passed the sample count check\n"
     ]
    },
    {
     "name": "stderr",
     "output_type": "stream",
     "text": [
      "/var/folders/s6/962q46653xd_fxwlc18l0t8w00bhjp/T/ipykernel_87737/368539919.py:3: RuntimeWarning: invalid value encountered in true_divide\n",
      "  dave=dsum/dd\n"
     ]
    },
    {
     "name": "stdout",
     "output_type": "stream",
     "text": [
      "=== working on 2008 ===\n",
      "num of prof = 78034 max year = 2016 min year = 2003\n",
      "reading data...\n",
      "passed the sample count check\n"
     ]
    },
    {
     "name": "stderr",
     "output_type": "stream",
     "text": [
      "/var/folders/s6/962q46653xd_fxwlc18l0t8w00bhjp/T/ipykernel_87737/368539919.py:3: RuntimeWarning: invalid value encountered in true_divide\n",
      "  dave=dsum/dd\n"
     ]
    },
    {
     "name": "stdout",
     "output_type": "stream",
     "text": [
      "=== working on 2009 ===\n",
      "num of prof = 78034 max year = 2016 min year = 2003\n",
      "reading data...\n",
      "passed the sample count check\n"
     ]
    },
    {
     "name": "stderr",
     "output_type": "stream",
     "text": [
      "/var/folders/s6/962q46653xd_fxwlc18l0t8w00bhjp/T/ipykernel_87737/368539919.py:3: RuntimeWarning: invalid value encountered in true_divide\n",
      "  dave=dsum/dd\n"
     ]
    },
    {
     "name": "stdout",
     "output_type": "stream",
     "text": [
      "=== working on 2010 ===\n",
      "num of prof = 78034 max year = 2016 min year = 2003\n",
      "reading data...\n",
      "passed the sample count check\n"
     ]
    },
    {
     "name": "stderr",
     "output_type": "stream",
     "text": [
      "/var/folders/s6/962q46653xd_fxwlc18l0t8w00bhjp/T/ipykernel_87737/368539919.py:3: RuntimeWarning: invalid value encountered in true_divide\n",
      "  dave=dsum/dd\n"
     ]
    },
    {
     "name": "stdout",
     "output_type": "stream",
     "text": [
      "=== working on 2011 ===\n",
      "num of prof = 78034 max year = 2016 min year = 2003\n",
      "reading data...\n",
      "passed the sample count check\n"
     ]
    },
    {
     "name": "stderr",
     "output_type": "stream",
     "text": [
      "/var/folders/s6/962q46653xd_fxwlc18l0t8w00bhjp/T/ipykernel_87737/368539919.py:3: RuntimeWarning: invalid value encountered in true_divide\n",
      "  dave=dsum/dd\n"
     ]
    },
    {
     "name": "stdout",
     "output_type": "stream",
     "text": [
      "=== working on 2012 ===\n",
      "num of prof = 78034 max year = 2016 min year = 2003\n",
      "reading data...\n",
      "passed the sample count check\n"
     ]
    },
    {
     "name": "stderr",
     "output_type": "stream",
     "text": [
      "/var/folders/s6/962q46653xd_fxwlc18l0t8w00bhjp/T/ipykernel_87737/368539919.py:3: RuntimeWarning: invalid value encountered in true_divide\n",
      "  dave=dsum/dd\n"
     ]
    },
    {
     "name": "stdout",
     "output_type": "stream",
     "text": [
      "=== working on 2013 ===\n",
      "num of prof = 78034 max year = 2016 min year = 2003\n",
      "reading data...\n",
      "passed the sample count check\n"
     ]
    },
    {
     "name": "stderr",
     "output_type": "stream",
     "text": [
      "/var/folders/s6/962q46653xd_fxwlc18l0t8w00bhjp/T/ipykernel_87737/368539919.py:3: RuntimeWarning: invalid value encountered in true_divide\n",
      "  dave=dsum/dd\n"
     ]
    },
    {
     "name": "stdout",
     "output_type": "stream",
     "text": [
      "=== working on 2014 ===\n",
      "num of prof = 78034 max year = 2016 min year = 2003\n",
      "reading data...\n",
      "passed the sample count check\n"
     ]
    },
    {
     "name": "stderr",
     "output_type": "stream",
     "text": [
      "/var/folders/s6/962q46653xd_fxwlc18l0t8w00bhjp/T/ipykernel_87737/368539919.py:3: RuntimeWarning: invalid value encountered in true_divide\n",
      "  dave=dsum/dd\n"
     ]
    },
    {
     "name": "stdout",
     "output_type": "stream",
     "text": [
      "=== working on 2015 ===\n",
      "num of prof = 78034 max year = 2016 min year = 2003\n",
      "reading data...\n",
      "passed the sample count check\n"
     ]
    },
    {
     "name": "stderr",
     "output_type": "stream",
     "text": [
      "/var/folders/s6/962q46653xd_fxwlc18l0t8w00bhjp/T/ipykernel_87737/368539919.py:3: RuntimeWarning: invalid value encountered in true_divide\n",
      "  dave=dsum/dd\n"
     ]
    },
    {
     "name": "stdout",
     "output_type": "stream",
     "text": [
      "=== working on 2016 ===\n",
      "num of prof = 78034 max year = 2016 min year = 2003\n",
      "reading data...\n",
      "passed the sample count check\n",
      "num of prof = 15241 max year = 2021 min year = 2016\n",
      "reading data...\n",
      "passed the sample count check\n"
     ]
    },
    {
     "name": "stderr",
     "output_type": "stream",
     "text": [
      "/var/folders/s6/962q46653xd_fxwlc18l0t8w00bhjp/T/ipykernel_87737/368539919.py:3: RuntimeWarning: invalid value encountered in true_divide\n",
      "  dave=dsum/dd\n"
     ]
    },
    {
     "name": "stdout",
     "output_type": "stream",
     "text": [
      "=== working on 2017 ===\n",
      "num of prof = 15241 max year = 2021 min year = 2016\n",
      "reading data...\n",
      "passed the sample count check\n"
     ]
    },
    {
     "name": "stderr",
     "output_type": "stream",
     "text": [
      "/var/folders/s6/962q46653xd_fxwlc18l0t8w00bhjp/T/ipykernel_87737/368539919.py:3: RuntimeWarning: invalid value encountered in true_divide\n",
      "  dave=dsum/dd\n"
     ]
    },
    {
     "name": "stdout",
     "output_type": "stream",
     "text": [
      "=== working on 2018 ===\n",
      "num of prof = 15241 max year = 2021 min year = 2016\n",
      "reading data...\n",
      "passed the sample count check\n"
     ]
    },
    {
     "name": "stderr",
     "output_type": "stream",
     "text": [
      "/var/folders/s6/962q46653xd_fxwlc18l0t8w00bhjp/T/ipykernel_87737/368539919.py:3: RuntimeWarning: invalid value encountered in true_divide\n",
      "  dave=dsum/dd\n"
     ]
    },
    {
     "name": "stdout",
     "output_type": "stream",
     "text": [
      "=== working on 2019 ===\n",
      "num of prof = 15241 max year = 2021 min year = 2016\n",
      "reading data...\n",
      "passed the sample count check\n"
     ]
    },
    {
     "name": "stderr",
     "output_type": "stream",
     "text": [
      "/var/folders/s6/962q46653xd_fxwlc18l0t8w00bhjp/T/ipykernel_87737/368539919.py:3: RuntimeWarning: invalid value encountered in true_divide\n",
      "  dave=dsum/dd\n"
     ]
    },
    {
     "name": "stdout",
     "output_type": "stream",
     "text": [
      "=== working on 2020 ===\n",
      "num of prof = 15241 max year = 2021 min year = 2016\n",
      "reading data...\n",
      "passed the sample count check\n"
     ]
    },
    {
     "name": "stderr",
     "output_type": "stream",
     "text": [
      "/var/folders/s6/962q46653xd_fxwlc18l0t8w00bhjp/T/ipykernel_87737/368539919.py:3: RuntimeWarning: invalid value encountered in true_divide\n",
      "  dave=dsum/dd\n"
     ]
    },
    {
     "name": "stdout",
     "output_type": "stream",
     "text": [
      "=== working on 2021 ===\n",
      "num of prof = 15241 max year = 2021 min year = 2016\n",
      "reading data...\n",
      "passed the sample count check\n"
     ]
    },
    {
     "name": "stderr",
     "output_type": "stream",
     "text": [
      "/var/folders/s6/962q46653xd_fxwlc18l0t8w00bhjp/T/ipykernel_87737/368539919.py:3: RuntimeWarning: invalid value encountered in true_divide\n",
      "  dave=dsum/dd\n"
     ]
    }
   ],
   "source": [
    "YR=np.arange(1965,2022,1)\n",
    "xc=np.arange(-180,180,1)+.5\n",
    "yc=np.arange(-90,90,1)+.5\n",
    "zc=zstd[:Nlev]\n",
    "for yr in YR:\n",
    "    print('=== working on '+str(yr)+' ===')\n",
    "    sumo2,dd,dprof=monthly_1deg_bin(Nlev,yr)\n",
    "    dummy=save_1deg_bin(sumo2,dd,xc,yc,zc,yr,'o2',dprof)"
   ]
  }
 ],
 "metadata": {
  "kernelspec": {
   "display_name": "Calc0",
   "language": "python",
   "name": "calc0"
  },
  "language_info": {
   "codemirror_mode": {
    "name": "ipython",
    "version": 3
   },
   "file_extension": ".py",
   "mimetype": "text/x-python",
   "name": "python",
   "nbconvert_exporter": "python",
   "pygments_lexer": "ipython3",
   "version": "3.9.10"
  }
 },
 "nbformat": 4,
 "nbformat_minor": 5
}
