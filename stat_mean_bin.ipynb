{
 "cells": [
  {
   "cell_type": "markdown",
   "id": "7cd69dd5-311f-441a-ac1c-18f3584773cc",
   "metadata": {},
   "source": [
    "# statistical mean field of binned o2 data\n",
    "- load intermediate binned data\n",
    "- generate monthly climatology in 12 x Nlev x 180 x 360\n",
    "- combine OSD and CTD"
   ]
  },
  {
   "cell_type": "code",
   "execution_count": 1,
   "id": "e2a7f58d-61b7-477a-bef3-fa2b6224b424",
   "metadata": {},
   "outputs": [],
   "source": [
    "import numpy as np\n",
    "import matplotlib.pyplot as plt\n",
    "import netCDF4 as nc\n",
    "import xarray as xr\n",
    "import pandas as pd\n",
    "import os"
   ]
  },
  {
   "cell_type": "code",
   "execution_count": 2,
   "id": "fe7d42dd-350c-4765-82b2-e45903b12287",
   "metadata": {},
   "outputs": [],
   "source": [
    "# data source identification\n",
    "Nlev=47\n",
    "# define standard depth\n",
    "zstd=np.array([0.00e+00, 5.00e+00, 1.00e+01, 1.50e+01, 2.00e+01, 2.50e+01,\n",
    "       3.00e+01, 3.50e+01, 4.00e+01, 4.50e+01, 5.00e+01, 5.50e+01,\n",
    "       6.00e+01, 6.50e+01, 7.00e+01, 7.50e+01, 8.00e+01, 8.50e+01,\n",
    "       9.00e+01, 9.50e+01, 1.00e+02, 1.25e+02, 1.50e+02, 1.75e+02,\n",
    "       2.00e+02, 2.25e+02, 2.50e+02, 2.75e+02, 3.00e+02, 3.25e+02,\n",
    "       3.50e+02, 3.75e+02, 4.00e+02, 4.25e+02, 4.50e+02, 4.75e+02,\n",
    "       5.00e+02, 5.50e+02, 6.00e+02, 6.50e+02, 7.00e+02, 7.50e+02,\n",
    "       8.00e+02, 8.50e+02, 9.00e+02, 9.50e+02, 1.00e+03, 1.05e+03,\n",
    "       1.10e+03, 1.15e+03, 1.20e+03, 1.25e+03, 1.30e+03, 1.35e+03,\n",
    "       1.40e+03, 1.45e+03, 1.50e+03, 1.55e+03, 1.60e+03, 1.65e+03,\n",
    "       1.70e+03, 1.75e+03, 1.80e+03, 1.85e+03, 1.90e+03, 1.95e+03,\n",
    "       2.00e+03, 2.10e+03, 2.20e+03, 2.30e+03, 2.40e+03, 2.50e+03,\n",
    "       2.60e+03, 2.70e+03, 2.80e+03, 2.90e+03, 3.00e+03, 3.10e+03,\n",
    "       3.20e+03, 3.30e+03, 3.40e+03, 3.50e+03, 3.60e+03, 3.70e+03,\n",
    "       3.80e+03, 3.90e+03, 4.00e+03, 4.10e+03, 4.20e+03, 4.30e+03,\n",
    "       4.40e+03, 4.50e+03, 4.60e+03, 4.70e+03, 4.80e+03, 4.90e+03,\n",
    "       5.00e+03, 5.10e+03, 5.20e+03, 5.30e+03, 5.40e+03, 5.50e+03],\n",
    "      dtype='float32')"
   ]
  },
  {
   "cell_type": "markdown",
   "id": "8777883e-d19f-4881-aca9-2463792f8ae9",
   "metadata": {},
   "source": [
    "### calculate the climatology of the Bottle data"
   ]
  },
  {
   "cell_type": "code",
   "execution_count": null,
   "id": "aa504d29-bf8f-416d-8005-88bec269e45c",
   "metadata": {},
   "outputs": [],
   "source": [
    "dirname='intermed_files'\n",
    "# main loop to bin the profiles and save netCDF annually\n",
    "YR=np.arange(1965,2022,1)\n",
    "xc=np.arange(-180,180,1)+.5\n",
    "yc=np.arange(-90,90,1)+.5\n",
    "zc=zstd[:Nlev]\n",
    "var='o2'\n",
    "sumo2=np.zeros((12,Nlev,180,360))\n",
    "dd=np.zeros((12,Nlev,180,360))\n",
    "for yr in YR:\n",
    "    print('=== working on '+str(yr)+' ===')\n",
    "    fn=dirname+'/'+var+'_1x1bin_osd_'+str(yr)+'.nc'\n",
    "    ds=xr.open_dataset(fn)\n",
    "    o2loc=ds.o2.to_numpy()\n",
    "    o2loc[np.isnan(o2loc)]=0\n",
    "    nloc=ds.sample_count.to_numpy()\n",
    "    nloc[np.isnan(nloc)]=0\n",
    "    sumo2=sumo2+nloc*o2loc\n",
    "    dd=dd+ds.sample_count.to_numpy()\n",
    "# statistical mean\n",
    "o2=sumo2/dd"
   ]
  },
  {
   "cell_type": "code",
   "execution_count": null,
   "id": "aa820747-4a2d-46d4-aed8-3b9f2fe1e959",
   "metadata": {},
   "outputs": [],
   "source": [
    "#zc=zstd[:Nlev]\n",
    "time=np.arange('1980-01','1981-01',dtype='datetime64[M]')\n",
    "da=xr.DataArray(data=o2,name='o_mn',dims=['time','depth','lat','lon'],\\\n",
    "               coords={'time':time,'depth':zc,'lat':yc,'lon':xc})\n",
    "dd=xr.DataArray(data=dd,name='o_dd',dims=['time','depth','lat','lon'],\\\n",
    "               coords={'time':time,'depth':zc,'lat':yc,'lon':xc})\n",
    "ds=da.to_dataset()\n",
    "ds['o_dd']=dd\n",
    "ds.to_netcdf('o2_clim_osd.nc')"
   ]
  },
  {
   "cell_type": "code",
   "execution_count": null,
   "id": "8fce94a0-9e57-4834-b9dd-3f431a1ef8ec",
   "metadata": {},
   "outputs": [],
   "source": [
    "ds=xr.open_dataset('o2_clim_osd.nc')\n",
    "ds.o_mn.mean('time').sel(depth=0).plot(vmax=400)"
   ]
  },
  {
   "cell_type": "markdown",
   "id": "61b5458a-e846-4d89-a872-f5e812c3e568",
   "metadata": {},
   "source": [
    "### calculate the climatology of CTD data"
   ]
  },
  {
   "cell_type": "code",
   "execution_count": null,
   "id": "48f9910f-e565-4d26-998d-d233eb947dde",
   "metadata": {},
   "outputs": [],
   "source": [
    "## do the same for CTD data\n",
    "var='o2'\n",
    "YR=np.arange(1987,2021,1)\n",
    "sumo2=np.zeros((12,Nlev,180,360))\n",
    "dd=np.zeros((12,Nlev,180,360))\n",
    "for yr in YR:\n",
    "    print('=== working on '+str(yr)+' ===')\n",
    "    fn=dirname+'/'+var+'_1x1bin_ctd_'+str(yr)+'.nc'\n",
    "    ds=xr.open_dataset(fn)\n",
    "    o2loc=ds.o2.to_numpy()\n",
    "    o2loc[np.isnan(o2loc)]=0\n",
    "    sumo2=sumo2+ds.sample_count.to_numpy()*o2loc\n",
    "    dd=dd+ds.sample_count.to_numpy()\n",
    "# statistical mean\n",
    "o2=sumo2/dd"
   ]
  },
  {
   "cell_type": "code",
   "execution_count": null,
   "id": "ff4c2200-0b22-4766-80fe-497c4952a362",
   "metadata": {},
   "outputs": [],
   "source": [
    "time=np.arange('1980-01','1981-01',dtype='datetime64[M]')\n",
    "da1=xr.DataArray(data=o2,name='o_mn',dims=['time','depth','lat','lon'],\\\n",
    "               coords={'time':time,'depth':zc,'lat':yc,'lon':xc})\n",
    "dd1=xr.DataArray(data=dd,name='o_dd',dims=['time','depth','lat','lon'],\\\n",
    "               coords={'time':time,'depth':zc,'lat':yc,'lon':xc})\n",
    "ds1=da1.to_dataset()\n",
    "ds1['o_dd']=dd1\n",
    "ds1.to_netcdf('o2_clim_ctd.nc')"
   ]
  },
  {
   "cell_type": "code",
   "execution_count": null,
   "id": "ab03e7a7-dd49-471e-baf2-df238b8adaf4",
   "metadata": {},
   "outputs": [],
   "source": [
    "ds1=xr.open_dataset('o2_clim_ctd.nc')\n",
    "ds1.o_mn.mean('time').sel(depth=0).plot(vmax=400)"
   ]
  },
  {
   "cell_type": "code",
   "execution_count": null,
   "id": "df3e28ed-8dc1-47a5-84fc-5c9707d9fef5",
   "metadata": {},
   "outputs": [],
   "source": [
    "ds00=xr.open_dataset('o2_clim_osd.nc')\n",
    "ds11=xr.open_dataset('o2_clim_ctd.nc')\n",
    "ds11.o_dd.sum('time').sel(depth=0).plot(vmax=1)"
   ]
  },
  {
   "cell_type": "markdown",
   "id": "a1a9ab8e-92b4-4e4b-b48b-136f03ce4aed",
   "metadata": {},
   "source": [
    "### combine the two climatology into a single one"
   ]
  },
  {
   "cell_type": "code",
   "execution_count": null,
   "id": "67eb8f50-dfed-4d7e-85ed-0e81412a2def",
   "metadata": {},
   "outputs": [],
   "source": [
    "# now combine two into a single one\n",
    "#\n",
    "sumo2=np.zeros((12,Nlev,180,360))\n",
    "dd=np.zeros((12,Nlev,180,360))\n",
    "#\n",
    "o20=ds00.o_mn.to_numpy()\n",
    "o20[np.isnan(o20)]=0\n",
    "#\n",
    "o21=ds11.o_mn.to_numpy()\n",
    "o21[np.isnan(o21)]=0\n",
    "#\n",
    "sumo2=ds00.o_dd.to_numpy()*o20+ds11.o_dd.to_numpy()*o21\n",
    "dd=ds00.o_dd.to_numpy()+ds11.o_dd.to_numpy()\n",
    "o2=sumo2/dd\n",
    "#\n",
    "da2=xr.DataArray(data=o2,name='o_mn',dims=['time','depth','lat','lon'],\\\n",
    "               coords={'time':time,'depth':zc,'lat':yc,'lon':xc})\n",
    "dd2=xr.DataArray(data=dd,name='o_dd',dims=['time','depth','lat','lon'],\\\n",
    "               coords={'time':time,'depth':zc,'lat':yc,'lon':xc})\n",
    "ds2=da2.to_dataset()\n",
    "ds2['o_dd']=dd2\n",
    "ds2.to_netcdf('o2_clim_osdctd.nc')"
   ]
  },
  {
   "cell_type": "code",
   "execution_count": null,
   "id": "6aa0703d-1859-49a3-b297-87bfefc90941",
   "metadata": {},
   "outputs": [],
   "source": [
    "ds2=xr.open_dataset('o2_clim_osdctd.nc')\n",
    "ds2.o_mn.mean('time').sel(depth=0).plot(robust=True)"
   ]
  },
  {
   "cell_type": "code",
   "execution_count": null,
   "id": "c4f8530d-f614-4655-a415-d53c18cd34fe",
   "metadata": {},
   "outputs": [],
   "source": [
    "ds2.o_mn.sel(depth=0).plot(col='time',col_wrap=4)"
   ]
  },
  {
   "cell_type": "code",
   "execution_count": null,
   "id": "202d5c93-3b01-4b36-8707-a26513c17c3c",
   "metadata": {},
   "outputs": [],
   "source": [
    "# pass 2 climatology uses 3 month moving window composite\n",
    "o20=ds2.o_mn.to_numpy()\n",
    "o2=np.concatenate([o20,o20,o20],axis=0)\n",
    "o2rm=np.zeros(np.shape(o2))\n",
    "for m in np.arange(1,35,1):\n",
    "    d=np.empty((3,47,180,360))\n",
    "    d[0,:,:,:]=o2[m-1,:,:,:]\n",
    "    d[1,:,:,:]=o2[m,:,:,:]\n",
    "    d[2,:,:,:]=o2[m+1,:,:,:]\n",
    "    o2rm[m,:,:,:]=np.nanmean(d,axis=0)\n",
    "o2rm1=o2rm[12:24,:,:,:]\n",
    "da3=xr.DataArray(data=o2rm1,name='o_mn',dims=['time','depth','lat','lon'],\\\n",
    "               coords={'time':time,'depth':zc,'lat':yc,'lon':xc})\n",
    "ds4=da3.to_dataset()\n",
    "ds4.to_netcdf('o2_clim_osdctd_pass2.nc')"
   ]
  },
  {
   "cell_type": "code",
   "execution_count": null,
   "id": "e50edad7-8081-4a10-bf7f-c7798a8d3c7f",
   "metadata": {},
   "outputs": [],
   "source": [
    "ds4.o_mn.sel(depth=0).plot(col='time',col_wrap=4)"
   ]
  }
 ],
 "metadata": {
  "kernelspec": {
   "display_name": "Calc3",
   "language": "python",
   "name": "calc3"
  },
  "language_info": {
   "codemirror_mode": {
    "name": "ipython",
    "version": 3
   },
   "file_extension": ".py",
   "mimetype": "text/x-python",
   "name": "python",
   "nbconvert_exporter": "python",
   "pygments_lexer": "ipython3",
   "version": "3.8.12"
  }
 },
 "nbformat": 4,
 "nbformat_minor": 5
}
